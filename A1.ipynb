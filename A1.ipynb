{
 "cells": [
  {
   "cell_type": "markdown",
   "id": "035f0c7a-0dc4-460e-8cf9-2492b4a326c1",
   "metadata": {},
   "source": [
    "<h1>Data Science Tools and Ecosystem<h1>"
   ]
  },
  {
   "cell_type": "markdown",
   "id": "9028e14a-ee63-4a92-8da3-2b91a0e98da0",
   "metadata": {},
   "source": [
    "In this notebook, Data Science Tools and Ecosystem are summarized."
   ]
  },
  {
   "cell_type": "markdown",
   "id": "db69c482-5881-43a3-b589-d3bf3ea5eb50",
   "metadata": {},
   "source": [
    "Some of the popular languages that Data Science use are:"
   ]
  },
  {
   "cell_type": "markdown",
   "id": "b49e5ac3-49c7-4716-a6e6-c597330b7cde",
   "metadata": {},
   "source": [
    "1. Python\n",
    "2. R\n",
    "3. Scala"
   ]
  },
  {
   "cell_type": "markdown",
   "id": "a5696aed-db25-4b32-99c1-6fa7a6dc30ff",
   "metadata": {},
   "source": [
    "Some of the commonly used libraries used by Data Scientists include:"
   ]
  },
  {
   "cell_type": "markdown",
   "id": "3d11c0e5-cf4c-4638-a90e-7a651587282a",
   "metadata": {},
   "source": [
    "1. Tensor Flow\n",
    "2. Sci-kit Learn\n",
    "3. Matplotlib"
   ]
  },
  {
   "cell_type": "markdown",
   "id": "8eedb490-0c4c-4bf2-969b-b6f76d202905",
   "metadata": {},
   "source": [
    "|Data Science Tools|\n",
    "|------------------|\n",
    "|Apache Spark|\n",
    "|Tensor Flow|\n",
    "|Pandas|"
   ]
  },
  {
   "cell_type": "markdown",
   "id": "9de92f23-d1e4-4760-a18c-d184364ecae0",
   "metadata": {},
   "source": [
    "<h3>Below are a few examples of evaluating arithmetic expressions in Python</h3>"
   ]
  },
  {
   "cell_type": "code",
   "execution_count": 2,
   "id": "37e7ee00-4e00-4879-bf76-5251488324c9",
   "metadata": {},
   "outputs": [
    {
     "data": {
      "text/plain": [
       "17"
      ]
     },
     "execution_count": 2,
     "metadata": {},
     "output_type": "execute_result"
    }
   ],
   "source": [
    "#This a simple arithmetic expression to mutiply then add integers\n",
    "(3*4)+5"
   ]
  },
  {
   "cell_type": "code",
   "execution_count": 3,
   "id": "4b783ac7-6d25-4c7d-9441-a838b5452772",
   "metadata": {},
   "outputs": [
    {
     "data": {
      "text/plain": [
       "3.3333333333333335"
      ]
     },
     "execution_count": 3,
     "metadata": {},
     "output_type": "execute_result"
    }
   ],
   "source": [
    "#This will convert 200 minutes to hours by diving by 60\n",
    "200/60"
   ]
  },
  {
   "cell_type": "markdown",
   "id": "0bf2820a-283b-40c5-a179-898c963f6127",
   "metadata": {},
   "source": [
    "** Objectives: **\n",
    "- Python\n",
    "- R\n",
    "- Java"
   ]
  },
  {
   "cell_type": "markdown",
   "id": "c73491ca-fbd1-419d-90b6-c75b379e9aa6",
   "metadata": {},
   "source": [
    "<h2>Author</h2>"
   ]
  },
  {
   "cell_type": "markdown",
   "id": "5e9ea730-d2ed-4105-a8b8-7a7080aa441a",
   "metadata": {},
   "source": [
    "Chand Saleem"
   ]
  },
  {
   "cell_type": "code",
   "execution_count": null,
   "id": "b1c1509c-068a-4a3e-80ee-b6c40b2b376d",
   "metadata": {},
   "outputs": [],
   "source": []
  }
 ],
 "metadata": {
  "kernelspec": {
   "display_name": "Python",
   "language": "python",
   "name": "conda-env-python-py"
  },
  "language_info": {
   "codemirror_mode": {
    "name": "ipython",
    "version": 3
   },
   "file_extension": ".py",
   "mimetype": "text/x-python",
   "name": "python",
   "nbconvert_exporter": "python",
   "pygments_lexer": "ipython3",
   "version": "3.7.12"
  }
 },
 "nbformat": 4,
 "nbformat_minor": 5
}
